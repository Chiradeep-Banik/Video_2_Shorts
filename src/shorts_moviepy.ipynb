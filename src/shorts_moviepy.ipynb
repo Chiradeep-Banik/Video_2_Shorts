{
 "cells": [
  {
   "cell_type": "code",
   "execution_count": 1,
   "metadata": {},
   "outputs": [],
   "source": [
    "from moviepy.editor import VideoFileClip,clips_array, AudioFileClip\n",
    "import moviepy.video.fx.all as vfx\n",
    "import os\n",
    "import subprocess"
   ]
  },
  {
   "cell_type": "code",
   "execution_count": 2,
   "metadata": {},
   "outputs": [
    {
     "name": "stdout",
     "output_type": "stream",
     "text": [
      "3035.52\n",
      "59\n",
      "3035.52\n"
     ]
    }
   ],
   "source": [
    "video_path = \"../video/demo.mp4\"\n",
    "mine_path = \"../video/minecraft.mp4\"\n",
    "main_video = VideoFileClip(video_path,target_resolution=(1080,960))\n",
    "bottom_video = VideoFileClip(mine_path,audio=None,target_resolution=(960,1080)).subclip(120, 179)\n",
    "print(main_video.duration)\n",
    "print(bottom_video.duration)"
   ]
  },
  {
   "cell_type": "code",
   "execution_count": 3,
   "metadata": {},
   "outputs": [
    {
     "data": {
      "text/plain": [
       "[[0, 59], [60, 119], [120, 179]]"
      ]
     },
     "execution_count": 3,
     "metadata": {},
     "output_type": "execute_result"
    }
   ],
   "source": [
    "duration = int(main_video.duration)\n",
    "timings = []\n",
    "for i in range(0,duration,60):\n",
    "    start,end = i,i+59\n",
    "    if end < main_video.duration:\n",
    "        timings.append([start,end])\n",
    "\n",
    "timings[:3]"
   ]
  },
  {
   "cell_type": "code",
   "execution_count": 4,
   "metadata": {},
   "outputs": [],
   "source": [
    "def remove_mp3_files(directory=\".\"):\n",
    "    \"\"\"\n",
    "    Remove all MP3 files in the specified directory or the current directory.\n",
    "\n",
    "    Parameters:\n",
    "    - directory (str): The directory path. Default is the current directory.\n",
    "    \"\"\"\n",
    "    # Get the specified or current directory\n",
    "    current_directory = os.path.abspath(directory)\n",
    "\n",
    "    # List all files in the directory\n",
    "    files = os.listdir(current_directory)\n",
    "\n",
    "    # Filter only the mp3 files\n",
    "    mp3_files = [file for file in files if file.endswith(\".mp3\")]\n",
    "\n",
    "    # Remove each mp3 file\n",
    "    for mp3_file in mp3_files:\n",
    "        file_path = os.path.join(current_directory, mp3_file)\n",
    "        os.remove(file_path)\n",
    "\n"
   ]
  },
  {
   "cell_type": "code",
   "execution_count": 5,
   "metadata": {},
   "outputs": [],
   "source": [
    "# target_resolution=(1920,1080)\n",
    "\n",
    "def process_clip(start, end, main_video,bottom_video, output_path,speed_factor=2):\n",
    "    print(f'Doing this : {start}-{end}')\n",
    "    top_clip = main_video.subclip(start, end)\n",
    "    bottom_clip = bottom_video\n",
    "\n",
    "    clips = [[top_clip],[bottom_clip]]\n",
    "    final = clips_array(clips)\n",
    "\n",
    "    final = final.fx(vfx.speedx,speed_factor)\n",
    "\n",
    "    temp_video_path = os.path.join(output_path, f'temp_video_from_{start}_{end}_clip.mp4')\n",
    "    final.write_videofile(temp_video_path)\n",
    "    print(f'Finished this : {start}-{end}')\n",
    "    return temp_video_path"
   ]
  },
  {
   "cell_type": "code",
   "execution_count": 6,
   "metadata": {},
   "outputs": [],
   "source": [
    "def process_audio(start,end,temp_video_path,speed_factor=2):\n",
    "    audio = AudioFileClip(temp_video_path)\n",
    "    original_audio_path = f'audio_from_{start}_{end}_clip.mp3'\n",
    "    audio.write_audiofile(original_audio_path)\n",
    "\n",
    "    final_audio_path = f'audio_from_{start}_{end}_clip_final.mp3'\n",
    "\n",
    "\n",
    "    # Construct the ffmpeg command\n",
    "    ffmpeg_command = [\n",
    "        \"ffmpeg\",\n",
    "        \"-i\", original_audio_path,\n",
    "        \"-af\", f\"asetrate=44100*{1/speed_factor},aresample=44100,atempo={speed_factor}\",\n",
    "        final_audio_path\n",
    "    ]\n",
    "\n",
    "    # Run the ffmpeg command\n",
    "    subprocess.run(ffmpeg_command)\n",
    "    return final_audio_path"
   ]
  },
  {
   "cell_type": "code",
   "execution_count": 7,
   "metadata": {},
   "outputs": [],
   "source": [
    "def create_final(temp_video_path,final_audio_path,result_path):\n",
    "    video = VideoFileClip(temp_video_path)\n",
    "    audio = AudioFileClip(final_audio_path)\n",
    "\n",
    "    video.audio = audio\n",
    "    video.write_videofile(result_path)\n"
   ]
  },
  {
   "cell_type": "code",
   "execution_count": 8,
   "metadata": {},
   "outputs": [
    {
     "name": "stdout",
     "output_type": "stream",
     "text": [
      "Doing this : 0-59\n",
      "Moviepy - Building video ../output/temp_video_from_0_59_clip.mp4.\n",
      "MoviePy - Writing audio in temp_video_from_0_59_clipTEMP_MPY_wvf_snd.mp3\n"
     ]
    },
    {
     "name": "stderr",
     "output_type": "stream",
     "text": [
      "                                                                    \r"
     ]
    },
    {
     "name": "stdout",
     "output_type": "stream",
     "text": [
      "MoviePy - Done.\n",
      "Moviepy - Writing video ../output/temp_video_from_0_59_clip.mp4\n",
      "\n"
     ]
    },
    {
     "name": "stderr",
     "output_type": "stream",
     "text": [
      "                                                              \r"
     ]
    },
    {
     "name": "stdout",
     "output_type": "stream",
     "text": [
      "Moviepy - Done !\n",
      "Moviepy - video ready ../output/temp_video_from_0_59_clip.mp4\n",
      "Finished this : 0-59\n",
      "../output/temp_video_from_0_59_clip.mp4\n",
      "MoviePy - Writing audio in audio_from_0_59_clip.mp3\n"
     ]
    },
    {
     "name": "stderr",
     "output_type": "stream",
     "text": [
      "ffmpeg version 4.4.2-0ubuntu0.22.04.1+esm3 Copyright (c) 2000-2021 the FFmpeg developers\n",
      "  built with gcc 11 (Ubuntu 11.4.0-1ubuntu1~22.04)\n",
      "  configuration: --prefix=/usr --extra-version=0ubuntu0.22.04.1+esm3 --toolchain=hardened --libdir=/usr/lib/x86_64-linux-gnu --incdir=/usr/include/x86_64-linux-gnu --arch=amd64 --enable-gpl --disable-stripping --enable-gnutls --enable-ladspa --enable-libaom --enable-libass --enable-libbluray --enable-libbs2b --enable-libcaca --enable-libcdio --enable-libcodec2 --enable-libdav1d --enable-libflite --enable-libfontconfig --enable-libfreetype --enable-libfribidi --enable-libgme --enable-libgsm --enable-libjack --enable-libmp3lame --enable-libmysofa --enable-libopenjpeg --enable-libopenmpt --enable-libopus --enable-libpulse --enable-librabbitmq --enable-librubberband --enable-libshine --enable-libsnappy --enable-libsoxr --enable-libspeex --enable-libsrt --enable-libssh --enable-libtheora --enable-libtwolame --enable-libvidstab --enable-libvorbis --enable-libvpx --enable-libwebp --enable-libx265 --enable-libxml2 --enable-libxvid --enable-libzimg --enable-libzmq --enable-libzvbi --enable-lv2 --enable-omx --enable-openal --enable-opencl --enable-opengl --enable-sdl2 --enable-pocketsphinx --enable-librsvg --enable-libmfx --enable-libdc1394 --enable-libdrm --enable-libiec61883 --enable-chromaprint --enable-frei0r --enable-libx264 --enable-shared\n",
      "  libavutil      56. 70.100 / 56. 70.100\n",
      "  libavcodec     58.134.100 / 58.134.100\n",
      "  libavformat    58. 76.100 / 58. 76.100\n",
      "  libavdevice    58. 13.100 / 58. 13.100\n",
      "  libavfilter     7.110.100 /  7.110.100\n",
      "  libswscale      5.  9.100 /  5.  9.100\n",
      "  libswresample   3.  9.100 /  3.  9.100\n",
      "  libpostproc    55.  9.100 / 55.  9.100\n",
      "Input #0, mp3, from 'audio_from_0_59_clip.mp3':\n",
      "  Metadata:\n",
      "    encoder         : Lavf58.29.100\n",
      "  Duration: 00:00:29.60, start: 0.025057, bitrate: 128 kb/s\n",
      "  Stream #0:0: Audio: mp3, 44100 Hz, stereo, fltp, 128 kb/s\n",
      "    Metadata:\n",
      "      encoder         : Lavc58.54\n",
      "Stream mapping:\n",
      "  Stream #0:0 -> #0:0 (mp3 (mp3float) -> mp3 (libmp3lame))\n",
      "Press [q] to stop, [?] for help\n",
      "Output #0, mp3, to 'audio_from_0_59_clip_final.mp3':\n",
      "  Metadata:\n",
      "    TSSE            : Lavf58.76.100\n",
      "  Stream #0:0: Audio: mp3, 44100 Hz, stereo, fltp\n",
      "    Metadata:\n",
      "      encoder         : Lavc58.134.100 libmp3lame\n",
      "size=       0kB time=00:00:00.00 bitrate=N/A speed=N/A    \r"
     ]
    },
    {
     "name": "stdout",
     "output_type": "stream",
     "text": [
      "MoviePy - Done.\n"
     ]
    },
    {
     "name": "stderr",
     "output_type": "stream",
     "text": [
      "size=     462kB time=00:00:29.51 bitrate= 128.3kbits/s speed=65.2x    \n",
      "video:0kB audio:462kB subtitle:0kB other streams:0kB global headers:0kB muxing overhead: 0.053474%\n"
     ]
    },
    {
     "name": "stdout",
     "output_type": "stream",
     "text": [
      "audio_from_0_59_clip_final.mp3\n",
      "Moviepy - Building video ../output/Econometric_Lecture_clip_1.mp4.\n",
      "MoviePy - Writing audio in Econometric_Lecture_clip_1TEMP_MPY_wvf_snd.mp3\n"
     ]
    },
    {
     "name": "stderr",
     "output_type": "stream",
     "text": [
      "                                                                    \r"
     ]
    },
    {
     "name": "stdout",
     "output_type": "stream",
     "text": [
      "MoviePy - Done.\n",
      "Moviepy - Writing video ../output/Econometric_Lecture_clip_1.mp4\n",
      "\n"
     ]
    },
    {
     "name": "stderr",
     "output_type": "stream",
     "text": [
      "                                                              \r"
     ]
    },
    {
     "name": "stdout",
     "output_type": "stream",
     "text": [
      "Moviepy - Done !\n",
      "Moviepy - video ready ../output/Econometric_Lecture_clip_1.mp4\n",
      "Doing this : 60-119\n",
      "Moviepy - Building video ../output/temp_video_from_60_119_clip.mp4.\n",
      "MoviePy - Writing audio in temp_video_from_60_119_clipTEMP_MPY_wvf_snd.mp3\n"
     ]
    },
    {
     "name": "stderr",
     "output_type": "stream",
     "text": [
      "                                                                    \r"
     ]
    },
    {
     "name": "stdout",
     "output_type": "stream",
     "text": [
      "MoviePy - Done.\n",
      "Moviepy - Writing video ../output/temp_video_from_60_119_clip.mp4\n",
      "\n"
     ]
    },
    {
     "name": "stderr",
     "output_type": "stream",
     "text": [
      "                                                              \r"
     ]
    },
    {
     "name": "stdout",
     "output_type": "stream",
     "text": [
      "Moviepy - Done !\n",
      "Moviepy - video ready ../output/temp_video_from_60_119_clip.mp4\n",
      "Finished this : 60-119\n",
      "../output/temp_video_from_60_119_clip.mp4\n",
      "MoviePy - Writing audio in audio_from_60_119_clip.mp3\n"
     ]
    },
    {
     "name": "stderr",
     "output_type": "stream",
     "text": [
      "ffmpeg version 4.4.2-0ubuntu0.22.04.1+esm3 Copyright (c) 2000-2021 the FFmpeg developers\n",
      "  built with gcc 11 (Ubuntu 11.4.0-1ubuntu1~22.04)\n",
      "  configuration: --prefix=/usr --extra-version=0ubuntu0.22.04.1+esm3 --toolchain=hardened --libdir=/usr/lib/x86_64-linux-gnu --incdir=/usr/include/x86_64-linux-gnu --arch=amd64 --enable-gpl --disable-stripping --enable-gnutls --enable-ladspa --enable-libaom --enable-libass --enable-libbluray --enable-libbs2b --enable-libcaca --enable-libcdio --enable-libcodec2 --enable-libdav1d --enable-libflite --enable-libfontconfig --enable-libfreetype --enable-libfribidi --enable-libgme --enable-libgsm --enable-libjack --enable-libmp3lame --enable-libmysofa --enable-libopenjpeg --enable-libopenmpt --enable-libopus --enable-libpulse --enable-librabbitmq --enable-librubberband --enable-libshine --enable-libsnappy --enable-libsoxr --enable-libspeex --enable-libsrt --enable-libssh --enable-libtheora --enable-libtwolame --enable-libvidstab --enable-libvorbis --enable-libvpx --enable-libwebp --enable-libx265 --enable-libxml2 --enable-libxvid --enable-libzimg --enable-libzmq --enable-libzvbi --enable-lv2 --enable-omx --enable-openal --enable-opencl --enable-opengl --enable-sdl2 --enable-pocketsphinx --enable-librsvg --enable-libmfx --enable-libdc1394 --enable-libdrm --enable-libiec61883 --enable-chromaprint --enable-frei0r --enable-libx264 --enable-shared\n",
      "  libavutil      56. 70.100 / 56. 70.100\n",
      "  libavcodec     58.134.100 / 58.134.100\n",
      "  libavformat    58. 76.100 / 58. 76.100\n",
      "  libavdevice    58. 13.100 / 58. 13.100\n",
      "  libavfilter     7.110.100 /  7.110.100\n",
      "  libswscale      5.  9.100 /  5.  9.100\n",
      "  libswresample   3.  9.100 /  3.  9.100\n",
      "  libpostproc    55.  9.100 / 55.  9.100\n",
      "Input #0, mp3, from 'audio_from_60_119_clip.mp3':\n",
      "  Metadata:\n",
      "    encoder         : Lavf58.29.100\n",
      "  Duration: 00:00:29.60, start: 0.025057, bitrate: 128 kb/s\n",
      "  Stream #0:0: Audio: mp3, 44100 Hz, stereo, fltp, 128 kb/s\n",
      "    Metadata:\n",
      "      encoder         : Lavc58.54\n",
      "Stream mapping:\n",
      "  Stream #0:0 -> #0:0 (mp3 (mp3float) -> mp3 (libmp3lame))\n",
      "Press [q] to stop, [?] for help\n",
      "Output #0, mp3, to 'audio_from_60_119_clip_final.mp3':\n",
      "  Metadata:\n",
      "    TSSE            : Lavf58.76.100\n",
      "  Stream #0:0: Audio: mp3, 44100 Hz, stereo, fltp\n",
      "    Metadata:\n",
      "      encoder         : Lavc58.134.100 libmp3lame\n",
      "size=       0kB time=00:00:00.00 bitrate=N/A speed=   0x    \r"
     ]
    },
    {
     "name": "stdout",
     "output_type": "stream",
     "text": [
      "MoviePy - Done.\n"
     ]
    },
    {
     "name": "stderr",
     "output_type": "stream",
     "text": [
      "size=     463kB time=00:00:29.54 bitrate= 128.3kbits/s speed=  61x    \n",
      "video:0kB audio:462kB subtitle:0kB other streams:0kB global headers:0kB muxing overhead: 0.053427%\n"
     ]
    },
    {
     "name": "stdout",
     "output_type": "stream",
     "text": [
      "audio_from_60_119_clip_final.mp3\n",
      "Moviepy - Building video ../output/Econometric_Lecture_clip_2.mp4.\n",
      "MoviePy - Writing audio in Econometric_Lecture_clip_2TEMP_MPY_wvf_snd.mp3\n"
     ]
    },
    {
     "name": "stderr",
     "output_type": "stream",
     "text": [
      "                                                                    \r"
     ]
    },
    {
     "name": "stdout",
     "output_type": "stream",
     "text": [
      "MoviePy - Done.\n",
      "Moviepy - Writing video ../output/Econometric_Lecture_clip_2.mp4\n",
      "\n"
     ]
    },
    {
     "name": "stderr",
     "output_type": "stream",
     "text": [
      "                                                              \r"
     ]
    },
    {
     "name": "stdout",
     "output_type": "stream",
     "text": [
      "Moviepy - Done !\n",
      "Moviepy - video ready ../output/Econometric_Lecture_clip_2.mp4\n",
      "Doing this : 120-179\n",
      "Moviepy - Building video ../output/temp_video_from_120_179_clip.mp4.\n",
      "MoviePy - Writing audio in temp_video_from_120_179_clipTEMP_MPY_wvf_snd.mp3\n"
     ]
    },
    {
     "name": "stderr",
     "output_type": "stream",
     "text": [
      "                                                                    \r"
     ]
    },
    {
     "name": "stdout",
     "output_type": "stream",
     "text": [
      "MoviePy - Done.\n",
      "Moviepy - Writing video ../output/temp_video_from_120_179_clip.mp4\n",
      "\n"
     ]
    },
    {
     "name": "stderr",
     "output_type": "stream",
     "text": [
      "                                                              \r"
     ]
    },
    {
     "name": "stdout",
     "output_type": "stream",
     "text": [
      "Moviepy - Done !\n",
      "Moviepy - video ready ../output/temp_video_from_120_179_clip.mp4\n",
      "Finished this : 120-179\n",
      "../output/temp_video_from_120_179_clip.mp4\n",
      "MoviePy - Writing audio in audio_from_120_179_clip.mp3\n"
     ]
    },
    {
     "name": "stderr",
     "output_type": "stream",
     "text": [
      "ffmpeg version 4.4.2-0ubuntu0.22.04.1+esm3 Copyright (c) 2000-2021 the FFmpeg developers\n",
      "  built with gcc 11 (Ubuntu 11.4.0-1ubuntu1~22.04)\n",
      "  configuration: --prefix=/usr --extra-version=0ubuntu0.22.04.1+esm3 --toolchain=hardened --libdir=/usr/lib/x86_64-linux-gnu --incdir=/usr/include/x86_64-linux-gnu --arch=amd64 --enable-gpl --disable-stripping --enable-gnutls --enable-ladspa --enable-libaom --enable-libass --enable-libbluray --enable-libbs2b --enable-libcaca --enable-libcdio --enable-libcodec2 --enable-libdav1d --enable-libflite --enable-libfontconfig --enable-libfreetype --enable-libfribidi --enable-libgme --enable-libgsm --enable-libjack --enable-libmp3lame --enable-libmysofa --enable-libopenjpeg --enable-libopenmpt --enable-libopus --enable-libpulse --enable-librabbitmq --enable-librubberband --enable-libshine --enable-libsnappy --enable-libsoxr --enable-libspeex --enable-libsrt --enable-libssh --enable-libtheora --enable-libtwolame --enable-libvidstab --enable-libvorbis --enable-libvpx --enable-libwebp --enable-libx265 --enable-libxml2 --enable-libxvid --enable-libzimg --enable-libzmq --enable-libzvbi --enable-lv2 --enable-omx --enable-openal --enable-opencl --enable-opengl --enable-sdl2 --enable-pocketsphinx --enable-librsvg --enable-libmfx --enable-libdc1394 --enable-libdrm --enable-libiec61883 --enable-chromaprint --enable-frei0r --enable-libx264 --enable-shared\n",
      "  libavutil      56. 70.100 / 56. 70.100\n",
      "  libavcodec     58.134.100 / 58.134.100\n",
      "  libavformat    58. 76.100 / 58. 76.100\n",
      "  libavdevice    58. 13.100 / 58. 13.100\n",
      "  libavfilter     7.110.100 /  7.110.100\n",
      "  libswscale      5.  9.100 /  5.  9.100\n",
      "  libswresample   3.  9.100 /  3.  9.100\n",
      "  libpostproc    55.  9.100 / 55.  9.100\n",
      "Input #0, mp3, from 'audio_from_120_179_clip.mp3':\n",
      "  Metadata:\n",
      "    encoder         : Lavf58.29.100\n",
      "  Duration: 00:00:29.60, start: 0.025057, bitrate: 128 kb/s\n",
      "  Stream #0:0: Audio: mp3, 44100 Hz, stereo, fltp, 128 kb/s\n",
      "    Metadata:\n",
      "      encoder         : Lavc58.54\n",
      "Stream mapping:\n",
      "  Stream #0:0 -> #0:0 (mp3 (mp3float) -> mp3 (libmp3lame))\n",
      "Press [q] to stop, [?] for help\n",
      "Output #0, mp3, to 'audio_from_120_179_clip_final.mp3':\n",
      "  Metadata:\n",
      "    TSSE            : Lavf58.76.100\n",
      "  Stream #0:0: Audio: mp3, 44100 Hz, stereo, fltp\n",
      "    Metadata:\n",
      "      encoder         : Lavc58.134.100 libmp3lame\n",
      "size=       0kB time=00:00:00.00 bitrate=N/A speed=N/A    \r"
     ]
    },
    {
     "name": "stdout",
     "output_type": "stream",
     "text": [
      "MoviePy - Done.\n"
     ]
    },
    {
     "name": "stderr",
     "output_type": "stream",
     "text": [
      "size=     463kB time=00:00:29.54 bitrate= 128.3kbits/s speed=63.9x    \n",
      "video:0kB audio:462kB subtitle:0kB other streams:0kB global headers:0kB muxing overhead: 0.053427%\n"
     ]
    },
    {
     "name": "stdout",
     "output_type": "stream",
     "text": [
      "audio_from_120_179_clip_final.mp3\n",
      "Moviepy - Building video ../output/Econometric_Lecture_clip_3.mp4.\n",
      "MoviePy - Writing audio in Econometric_Lecture_clip_3TEMP_MPY_wvf_snd.mp3\n"
     ]
    },
    {
     "name": "stderr",
     "output_type": "stream",
     "text": [
      "                                                                    \r"
     ]
    },
    {
     "name": "stdout",
     "output_type": "stream",
     "text": [
      "MoviePy - Done.\n",
      "Moviepy - Writing video ../output/Econometric_Lecture_clip_3.mp4\n",
      "\n"
     ]
    },
    {
     "name": "stderr",
     "output_type": "stream",
     "text": [
      "                                                              \r"
     ]
    },
    {
     "name": "stdout",
     "output_type": "stream",
     "text": [
      "Moviepy - Done !\n",
      "Moviepy - video ready ../output/Econometric_Lecture_clip_3.mp4\n"
     ]
    }
   ],
   "source": [
    "output_path = \"../output\"\n",
    "i = 1\n",
    "for start,end in timings[:3]:\n",
    "    temp_video_path = process_clip(start,end,main_video,bottom_video,output_path,2)\n",
    "    print(temp_video_path)\n",
    "    final_audio_path = process_audio(start,end,temp_video_path,2)\n",
    "    print(final_audio_path)\n",
    "    final_path = os.path.join(output_path,f'Econometric_Lecture_clip_{i}.mp4')\n",
    "    create_final(temp_video_path,final_audio_path,final_path)\n",
    "    os.remove(temp_video_path)\n",
    "    remove_mp3_files()\n",
    "    i += 1\n",
    "    \n",
    "    "
   ]
  }
 ],
 "metadata": {
  "kernelspec": {
   "display_name": "venv",
   "language": "python",
   "name": "python3"
  },
  "language_info": {
   "codemirror_mode": {
    "name": "ipython",
    "version": 3
   },
   "file_extension": ".py",
   "mimetype": "text/x-python",
   "name": "python",
   "nbconvert_exporter": "python",
   "pygments_lexer": "ipython3",
   "version": "3.10.12"
  }
 },
 "nbformat": 4,
 "nbformat_minor": 2
}
