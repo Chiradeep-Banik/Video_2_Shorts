{
 "cells": [
  {
   "cell_type": "code",
   "execution_count": 1,
   "metadata": {},
   "outputs": [],
   "source": [
    "from moviepy.editor import VideoFileClip,clips_array, AudioFileClip\n",
    "import moviepy.video.fx.all as vfx\n",
    "import moviepy.audio.fx.all as afx\n",
    "import os\n",
    "import subprocess\n"
   ]
  },
  {
   "cell_type": "code",
   "execution_count": 21,
   "metadata": {},
   "outputs": [
    {
     "name": "stdout",
     "output_type": "stream",
     "text": [
      "3035.52\n",
      "29\n",
      "3035.52\n"
     ]
    }
   ],
   "source": [
    "video_path = \"../video/demo.mp4\"\n",
    "mine_path = \"../video/minecraft.mp4\"\n",
    "main_video = VideoFileClip(video_path,target_resolution=(1080,960))\n",
    "main_audio = AudioFileClip(video_path)\n",
    "bottom_video = VideoFileClip(mine_path,audio=None,target_resolution=(960,1080)).subclip(0, 29)\n",
    "print(main_video.duration)\n",
    "print(bottom_video.duration)\n",
    "print(main_audio.duration)"
   ]
  },
  {
   "cell_type": "code",
   "execution_count": 24,
   "metadata": {},
   "outputs": [
    {
     "data": {
      "text/plain": [
       "[[0, 59], [60, 119], [120, 179]]"
      ]
     },
     "execution_count": 24,
     "metadata": {},
     "output_type": "execute_result"
    }
   ],
   "source": [
    "duration = int(main_video.duration)\n",
    "timings = []\n",
    "for i in range(0,duration,60):\n",
    "    start,end = i,i+59\n",
    "    if end < main_video.duration:\n",
    "        timings.append([start,end])\n",
    "\n",
    "timings[:3]"
   ]
  },
  {
   "cell_type": "code",
   "execution_count": 25,
   "metadata": {},
   "outputs": [],
   "source": [
    "def remove_mp3_files(directory=\".\"):\n",
    "    \"\"\"\n",
    "    Remove all MP3 files in the specified directory or the current directory.\n",
    "\n",
    "    Parameters:\n",
    "    - directory (str): The directory path. Default is the current directory.\n",
    "    \"\"\"\n",
    "    # Get the specified or current directory\n",
    "    current_directory = os.path.abspath(directory)\n",
    "\n",
    "    # List all files in the directory\n",
    "    files = os.listdir(current_directory)\n",
    "\n",
    "    # Filter only the mp3 files\n",
    "    mp3_files = [file for file in files if file.endswith(\".mp3\")]\n",
    "\n",
    "    # Remove each mp3 file\n",
    "    for mp3_file in mp3_files:\n",
    "        file_path = os.path.join(current_directory, mp3_file)\n",
    "        os.remove(file_path)\n",
    "\n"
   ]
  },
  {
   "cell_type": "code",
   "execution_count": 26,
   "metadata": {},
   "outputs": [],
   "source": [
    "# target_resolution=(1920,1080)\n",
    "\n",
    "def process_clip(start, end, main_video,main_audio,bottom_video, output_path,speed_factor=2):\n",
    "    print(f'Doing this : {start}-{end}')\n",
    "    top_clip = main_video.subclip(start, end)\n",
    "    top_audio = main_audio.subclip(start, end)\n",
    "    bottom_clip = bottom_video\n",
    "\n",
    "    clips = [[top_clip],[bottom_clip]]\n",
    "    final = clips_array(clips)\n",
    "\n",
    "    final = final.fx(vfx.speedx,speed_factor)\n",
    "\n",
    "    temp_video_path = os.path.join(output_path, f'temp_video_from_{start}_{end}_clip.mp4')\n",
    "    final.write_videofile(temp_video_path)\n",
    "    print(f'Finished this : {start}-{end}')\n",
    "    return temp_video_path"
   ]
  },
  {
   "cell_type": "code",
   "execution_count": 27,
   "metadata": {},
   "outputs": [],
   "source": [
    "def process_audio(start,end,temp_video_path,speed_factor=2):\n",
    "    audio = AudioFileClip(temp_video_path)\n",
    "    original_audio_path = f'audio_from_{start}_{end}_clip.mp3'\n",
    "    audio.write_audiofile(original_audio_path)\n",
    "\n",
    "    final_audio_path = f'audio_from_{start}_{end}_clip_final.mp3'\n",
    "\n",
    "\n",
    "    # Construct the ffmpeg command\n",
    "    ffmpeg_command = [\n",
    "        \"ffmpeg\",\n",
    "        \"-i\", original_audio_path,\n",
    "        \"-af\", f\"asetrate=44100*{1/speed_factor},aresample=44100,atempo={speed_factor}\",\n",
    "        final_audio_path\n",
    "    ]\n",
    "\n",
    "    # Run the ffmpeg command\n",
    "    subprocess.run(ffmpeg_command)\n",
    "    return final_audio_path"
   ]
  },
  {
   "cell_type": "code",
   "execution_count": 28,
   "metadata": {},
   "outputs": [],
   "source": [
    "def create_final(temp_video_path,final_audio_path,result_path):\n",
    "    video = VideoFileClip(temp_video_path)\n",
    "    audio = AudioFileClip(final_audio_path)\n",
    "\n",
    "    video.audio = audio\n",
    "    video.write_videofile(result_path)\n"
   ]
  },
  {
   "cell_type": "code",
   "execution_count": null,
   "metadata": {},
   "outputs": [],
   "source": [
    "output_path = \"../output\"\n",
    "for start,end in timings[:3]:\n",
    "    temp_video_path = process_clip(start,end,main_video,main_audio,bottom_video,output_path,2)\n",
    "    print(temp_video_path)\n",
    "    final_audio_path = process_audio(start,end,temp_video_path,2)\n",
    "    print(final_audio_path)\n",
    "    final_path = os.path.join(output_path,f'video_from_{start}_{end}_clip.mp4')\n",
    "    create_final(temp_video_path,final_audio_path,final_path)\n",
    "    os.remove(temp_video_path)\n",
    "    remove_mp3_files()\n",
    "    \n",
    "    \n",
    "    "
   ]
  }
 ],
 "metadata": {
  "kernelspec": {
   "display_name": "venv",
   "language": "python",
   "name": "python3"
  },
  "language_info": {
   "codemirror_mode": {
    "name": "ipython",
    "version": 3
   },
   "file_extension": ".py",
   "mimetype": "text/x-python",
   "name": "python",
   "nbconvert_exporter": "python",
   "pygments_lexer": "ipython3",
   "version": "3.10.12"
  }
 },
 "nbformat": 4,
 "nbformat_minor": 2
}
