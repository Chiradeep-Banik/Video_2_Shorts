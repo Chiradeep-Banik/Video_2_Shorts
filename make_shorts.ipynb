{
 "cells": [
  {
   "cell_type": "code",
   "execution_count": null,
   "metadata": {},
   "outputs": [],
   "source": [
    "%pip install -r requirements.txt"
   ]
  },
  {
   "cell_type": "code",
   "execution_count": 86,
   "metadata": {},
   "outputs": [],
   "source": [
    "from moviepy.editor import VideoFileClip,clips_array, CompositeVideoClip\n",
    "import moviepy.video.fx.all as vfx\n",
    "import moviepy.audio.fx.all as afx\n",
    "import os"
   ]
  },
  {
   "cell_type": "code",
   "execution_count": 58,
   "metadata": {},
   "outputs": [],
   "source": [
    "def process_clip(start, end, video, output_path):\n",
    "    print(f'Doing this : {start}-{end}')\n",
    "    clip = video.subclip(start, end)\n",
    "    print(clip.duration)\n",
    "    clip = clip.fx(vfx.speedx,1)\n",
    "    clip.write_videofile(os.path.join(output_path, f'video_from_{start}_{end}_clip.mp4'),threads=8)\n",
    "    print(f'Finished this : {start}-{end}')"
   ]
  },
  {
   "cell_type": "code",
   "execution_count": 70,
   "metadata": {},
   "outputs": [
    {
     "name": "stdout",
     "output_type": "stream",
     "text": [
      "3035.52\n"
     ]
    }
   ],
   "source": [
    "video = VideoFileClip(\"./video/demo.mp4\",fps_source=\"fps\")\n",
    "print(video.duration)"
   ]
  },
  {
   "cell_type": "code",
   "execution_count": 71,
   "metadata": {},
   "outputs": [
    {
     "data": {
      "text/plain": [
       "[[0, 29],\n",
       " [30, 59],\n",
       " [60, 89],\n",
       " [90, 119],\n",
       " [120, 149],\n",
       " [150, 179],\n",
       " [180, 209],\n",
       " [210, 239],\n",
       " [240, 269],\n",
       " [270, 299],\n",
       " [300, 329],\n",
       " [330, 359],\n",
       " [360, 389],\n",
       " [390, 419],\n",
       " [420, 449],\n",
       " [450, 479],\n",
       " [480, 509],\n",
       " [510, 539],\n",
       " [540, 569],\n",
       " [570, 599],\n",
       " [600, 629],\n",
       " [630, 659],\n",
       " [660, 689],\n",
       " [690, 719],\n",
       " [720, 749],\n",
       " [750, 779],\n",
       " [780, 809],\n",
       " [810, 839],\n",
       " [840, 869],\n",
       " [870, 899],\n",
       " [900, 929],\n",
       " [930, 959],\n",
       " [960, 989],\n",
       " [990, 1019],\n",
       " [1020, 1049],\n",
       " [1050, 1079],\n",
       " [1080, 1109],\n",
       " [1110, 1139],\n",
       " [1140, 1169],\n",
       " [1170, 1199],\n",
       " [1200, 1229],\n",
       " [1230, 1259],\n",
       " [1260, 1289],\n",
       " [1290, 1319],\n",
       " [1320, 1349],\n",
       " [1350, 1379],\n",
       " [1380, 1409],\n",
       " [1410, 1439],\n",
       " [1440, 1469],\n",
       " [1470, 1499],\n",
       " [1500, 1529],\n",
       " [1530, 1559],\n",
       " [1560, 1589],\n",
       " [1590, 1619],\n",
       " [1620, 1649],\n",
       " [1650, 1679],\n",
       " [1680, 1709],\n",
       " [1710, 1739],\n",
       " [1740, 1769],\n",
       " [1770, 1799],\n",
       " [1800, 1829],\n",
       " [1830, 1859],\n",
       " [1860, 1889],\n",
       " [1890, 1919],\n",
       " [1920, 1949],\n",
       " [1950, 1979],\n",
       " [1980, 2009],\n",
       " [2010, 2039],\n",
       " [2040, 2069],\n",
       " [2070, 2099],\n",
       " [2100, 2129],\n",
       " [2130, 2159],\n",
       " [2160, 2189],\n",
       " [2190, 2219],\n",
       " [2220, 2249],\n",
       " [2250, 2279],\n",
       " [2280, 2309],\n",
       " [2310, 2339],\n",
       " [2340, 2369],\n",
       " [2370, 2399],\n",
       " [2400, 2429],\n",
       " [2430, 2459],\n",
       " [2460, 2489],\n",
       " [2490, 2519],\n",
       " [2520, 2549],\n",
       " [2550, 2579],\n",
       " [2580, 2609],\n",
       " [2610, 2639],\n",
       " [2640, 2669],\n",
       " [2670, 2699],\n",
       " [2700, 2729],\n",
       " [2730, 2759],\n",
       " [2760, 2789],\n",
       " [2790, 2819],\n",
       " [2820, 2849],\n",
       " [2850, 2879],\n",
       " [2880, 2909],\n",
       " [2910, 2939],\n",
       " [2940, 2969],\n",
       " [2970, 2999],\n",
       " [3000, 3029]]"
      ]
     },
     "execution_count": 71,
     "metadata": {},
     "output_type": "execute_result"
    }
   ],
   "source": [
    "duration = int(video.duration)\n",
    "timings = []\n",
    "for i in range(0,duration,30):\n",
    "    start,end = i,i+29\n",
    "    if end < video.duration:\n",
    "        timings.append([start,end])\n",
    "\n",
    "timings"
   ]
  },
  {
   "cell_type": "code",
   "execution_count": null,
   "metadata": {},
   "outputs": [],
   "source": [
    "output_path = \"./output\"\n",
    "for start,end in timings[:2]:\n",
    "    process_clip(start,end,video,output_path)"
   ]
  },
  {
   "cell_type": "code",
   "execution_count": 92,
   "metadata": {},
   "outputs": [
    {
     "name": "stderr",
     "output_type": "stream",
     "text": [
      "                                                                 \n",
      "\n",
      "\n",
      "\n",
      "t:   0%|          | 2/870 [31:07<225:09:46, 933.85s/it, now=None]\n",
      "\n",
      "\n",
      "                                                                 \n",
      "\n",
      "\n",
      "\n",
      "t:   0%|          | 2/870 [31:07<225:09:48, 933.86s/it, now=None]\n",
      "\n",
      "\n",
      "\u001b[A\u001b[A\u001b[A"
     ]
    },
    {
     "name": "stdout",
     "output_type": "stream",
     "text": [
      "Moviepy - Building video final.mp4.\n",
      "MoviePy - Writing audio in finalTEMP_MPY_wvf_snd.mp3\n"
     ]
    },
    {
     "name": "stderr",
     "output_type": "stream",
     "text": [
      "                                                                 \n",
      "\n",
      "\n",
      "\n",
      "t:   0%|          | 2/870 [31:08<225:18:16, 934.44s/it, now=None]\n",
      "\n",
      "\n",
      "                                                                 \n",
      "\n",
      "\n",
      "\n",
      "t:   0%|          | 2/870 [31:08<225:18:21, 934.45s/it, now=None]\n",
      "\n",
      "\n",
      "\u001b[A\u001b[A\u001b[A"
     ]
    },
    {
     "name": "stdout",
     "output_type": "stream",
     "text": [
      "MoviePy - Done.\n",
      "Moviepy - Writing video final.mp4\n",
      "\n"
     ]
    },
    {
     "name": "stderr",
     "output_type": "stream",
     "text": [
      "                                                                 \n",
      "\n",
      "\n",
      "\n",
      "t:   0%|          | 2/870 [31:45<229:43:37, 952.78s/it, now=None]\n",
      "\n",
      "\n",
      "                                                                 \n",
      "\n",
      "\n",
      "\n",
      "t:   0%|          | 2/870 [31:45<229:43:45, 952.79s/it, now=None]\n",
      "\n",
      "\n",
      "\u001b[A\u001b[A\u001b[A"
     ]
    },
    {
     "name": "stdout",
     "output_type": "stream",
     "text": [
      "Moviepy - Done !\n",
      "Moviepy - video ready final.mp4\n"
     ]
    }
   ],
   "source": [
    "# ,target_resolution=(1920,1080)\n",
    "clip1 = VideoFileClip(\"./output/video_from_0_29_clip.mp4\")\n",
    "clip2 = VideoFileClip(\"./bottom.mp4\")\n",
    "\n",
    "# list of clips\n",
    "clips = [[clip1],[clip2]]\n",
    " \n",
    " \n",
    "# stacking clips\n",
    "final = clips_array(clips)\n",
    "# final.resize(width=1080,height=1920)\n",
    "\n",
    "final.write_videofile(\"final.mp4\",threads=8)"
   ]
  },
  {
   "cell_type": "code",
   "execution_count": 83,
   "metadata": {},
   "outputs": [
    {
     "name": "stderr",
     "output_type": "stream",
     "text": [
      "                                                                 \n",
      "\n",
      "\n",
      "\n",
      "t:   0%|          | 2/870 [21:11<153:20:11, 635.96s/it, now=None]\n",
      "\n",
      "\n",
      "                                                                 \n",
      "\n",
      "\n",
      "\n",
      "t:   0%|          | 2/870 [21:11<153:20:14, 635.96s/it, now=None]\n",
      "\n",
      "\n",
      "\u001b[A\u001b[A\u001b[A"
     ]
    },
    {
     "name": "stdout",
     "output_type": "stream",
     "text": [
      "Moviepy - Building video final.mp4.\n",
      "MoviePy - Writing audio in finalTEMP_MPY_wvf_snd.mp3\n"
     ]
    },
    {
     "name": "stderr",
     "output_type": "stream",
     "text": [
      "                                                                 \n",
      "\n",
      "\n",
      "\n",
      "t:   0%|          | 2/870 [21:12<153:27:07, 636.44s/it, now=None]\n",
      "\n",
      "\n",
      "                                                                 \n",
      "\n",
      "\n",
      "\n",
      "t:   0%|          | 2/870 [21:12<153:27:10, 636.44s/it, now=None]\n",
      "\n",
      "\n",
      "\u001b[A\u001b[A\u001b[A"
     ]
    },
    {
     "name": "stdout",
     "output_type": "stream",
     "text": [
      "MoviePy - Done.\n",
      "Moviepy - Writing video final.mp4\n",
      "\n"
     ]
    },
    {
     "name": "stderr",
     "output_type": "stream",
     "text": [
      "                                                                 \n",
      "\n",
      "\n",
      "\n",
      "t:   0%|          | 2/870 [21:33<155:54:39, 646.64s/it, now=None]\n",
      "\n",
      "\n",
      "                                                                 \n",
      "\n",
      "\n",
      "\n",
      "t:   0%|          | 2/870 [21:33<155:54:43, 646.64s/it, now=None]\n",
      "\n",
      "\n",
      "\u001b[A\u001b[A\u001b[A"
     ]
    },
    {
     "name": "stdout",
     "output_type": "stream",
     "text": [
      "Moviepy - Done !\n",
      "Moviepy - video ready final.mp4\n"
     ]
    }
   ],
   "source": [
    "# video = VideoFileClip(\"final.mp4\",target_resolution=(1920,1080))\n",
    "# video.write_videofile(\"final.mp4\")\n"
   ]
  }
 ],
 "metadata": {
  "kernelspec": {
   "display_name": "venv",
   "language": "python",
   "name": "python3"
  },
  "language_info": {
   "codemirror_mode": {
    "name": "ipython",
    "version": 3
   },
   "file_extension": ".py",
   "mimetype": "text/x-python",
   "name": "python",
   "nbconvert_exporter": "python",
   "pygments_lexer": "ipython3",
   "version": "3.10.12"
  }
 },
 "nbformat": 4,
 "nbformat_minor": 2
}
